{
 "cells": [
  {
   "cell_type": "code",
   "execution_count": 1,
   "id": "5a2703a3-0a7d-4347-823f-5ea85ecb0d78",
   "metadata": {},
   "outputs": [],
   "source": [
    "import pandas as pd\n",
    "import numpy as np\n",
    "import seaborn as sns\n",
    "import matplotlib.pyplot as plt"
   ]
  },
  {
   "cell_type": "code",
   "execution_count": 2,
   "id": "cf6fa9d6-8257-4c83-bd16-f150193f99b6",
   "metadata": {},
   "outputs": [],
   "source": [
    "# Read and prepare data\n",
    "df = pd.read_csv(\"benchmark_metrics.csv\", sep=',')\n",
    "df = df[df['run_ix'] == 'avg']"
   ]
  },
  {
   "cell_type": "code",
   "execution_count": 4,
   "id": "a4545999-f9df-46aa-8e6c-5d985a9eec4e",
   "metadata": {},
   "outputs": [],
   "source": [
    "# Number of tasks per model\n",
    "total_per_model = df.groupby(\"model\").size()\n",
    "\n",
    "# Number of successful tasks per model with ratio_success == 1.0\n",
    "success_per_model = df[df[\"ratio_success\"] == 1.0].groupby(\"model\").size()"
   ]
  },
  {
   "cell_type": "code",
   "execution_count": 5,
   "id": "4e4345bc-cd6f-4dab-9aae-f1f4fef2a69e",
   "metadata": {},
   "outputs": [
    {
     "data": {
      "text/plain": [
       "model\n",
       "granite-code:3b     12\n",
       "granite-code:8b     12\n",
       "qwen2.5-coder:3b    12\n",
       "qwen2.5-coder:7b    12\n",
       "qwen2.5:3b          12\n",
       "dtype: int64"
      ]
     },
     "execution_count": 5,
     "metadata": {},
     "output_type": "execute_result"
    }
   ],
   "source": [
    "total_per_model"
   ]
  },
  {
   "cell_type": "code",
   "execution_count": 6,
   "id": "02e31d0d-adf9-4e4b-beaa-f4ec9799987b",
   "metadata": {},
   "outputs": [
    {
     "data": {
      "text/plain": [
       "model\n",
       "granite-code:3b      2\n",
       "granite-code:8b      6\n",
       "qwen2.5-coder:3b     7\n",
       "qwen2.5-coder:7b    10\n",
       "qwen2.5:3b           1\n",
       "dtype: int64"
      ]
     },
     "execution_count": 6,
     "metadata": {},
     "output_type": "execute_result"
    }
   ],
   "source": [
    "success_per_model"
   ]
  },
  {
   "cell_type": "code",
   "execution_count": 7,
   "id": "c9f54bbb-db6a-4414-b142-c9257730eca6",
   "metadata": {},
   "outputs": [],
   "source": [
    "# ratio of successful tasks to total tasks per model\n",
    "success_ratio = (success_per_model / total_per_model).reset_index()\n",
    "success_ratio.columns = [\"model\", \"success_ratio\"]\n",
    "success_ratio = success_ratio.sort_values(\"success_ratio\", ascending=False)"
   ]
  },
  {
   "cell_type": "code",
   "execution_count": 8,
   "id": "c54b2c96-5eb1-4682-ac62-44091436e1b1",
   "metadata": {},
   "outputs": [
    {
     "data": {
      "text/html": [
       "<div>\n",
       "<style scoped>\n",
       "    .dataframe tbody tr th:only-of-type {\n",
       "        vertical-align: middle;\n",
       "    }\n",
       "\n",
       "    .dataframe tbody tr th {\n",
       "        vertical-align: top;\n",
       "    }\n",
       "\n",
       "    .dataframe thead th {\n",
       "        text-align: right;\n",
       "    }\n",
       "</style>\n",
       "<table border=\"1\" class=\"dataframe\">\n",
       "  <thead>\n",
       "    <tr style=\"text-align: right;\">\n",
       "      <th></th>\n",
       "      <th>model</th>\n",
       "      <th>success_ratio</th>\n",
       "    </tr>\n",
       "  </thead>\n",
       "  <tbody>\n",
       "    <tr>\n",
       "      <th>3</th>\n",
       "      <td>qwen2.5-coder:7b</td>\n",
       "      <td>0.833333</td>\n",
       "    </tr>\n",
       "    <tr>\n",
       "      <th>2</th>\n",
       "      <td>qwen2.5-coder:3b</td>\n",
       "      <td>0.583333</td>\n",
       "    </tr>\n",
       "    <tr>\n",
       "      <th>1</th>\n",
       "      <td>granite-code:8b</td>\n",
       "      <td>0.500000</td>\n",
       "    </tr>\n",
       "    <tr>\n",
       "      <th>0</th>\n",
       "      <td>granite-code:3b</td>\n",
       "      <td>0.166667</td>\n",
       "    </tr>\n",
       "    <tr>\n",
       "      <th>4</th>\n",
       "      <td>qwen2.5:3b</td>\n",
       "      <td>0.083333</td>\n",
       "    </tr>\n",
       "  </tbody>\n",
       "</table>\n",
       "</div>"
      ],
      "text/plain": [
       "              model  success_ratio\n",
       "3  qwen2.5-coder:7b       0.833333\n",
       "2  qwen2.5-coder:3b       0.583333\n",
       "1   granite-code:8b       0.500000\n",
       "0   granite-code:3b       0.166667\n",
       "4        qwen2.5:3b       0.083333"
      ]
     },
     "execution_count": 8,
     "metadata": {},
     "output_type": "execute_result"
    }
   ],
   "source": [
    "success_ratio"
   ]
  },
  {
   "cell_type": "code",
   "execution_count": 9,
   "id": "56cdd7fe-f05c-434e-be6f-aff90955153f",
   "metadata": {},
   "outputs": [
    {
     "name": "stderr",
     "output_type": "stream",
     "text": [
      "C:\\Users\\bv2504\\AppData\\Local\\Temp\\ipykernel_22212\\515564801.py:2: FutureWarning: \n",
      "\n",
      "Passing `palette` without assigning `hue` is deprecated and will be removed in v0.14.0. Assign the `y` variable to `hue` and set `legend=False` for the same effect.\n",
      "\n",
      "  sns.barplot(\n"
     ]
    },
    {
     "data": {
      "image/png": "[encoded data removed]",
      "text/plain": [
       "<Figure size 800x500 with 1 Axes>"
      ]
     },
     "metadata": {},
     "output_type": "display_data"
    }
   ],
   "source": [
    "plt.figure(figsize=(8, 5))\n",
    "sns.barplot(\n",
    "    data=success_ratio,\n",
    "    x=\"success_ratio\",\n",
    "    y=\"model\",\n",
    "    palette=\"crest\"\n",
    ")\n",
    "plt.xlabel(\"Fraction\")\n",
    "plt.ylabel(\"Model\")\n",
    "plt.title(\"Proportion of Perfectly Solved Tasks per Model\")\n",
    "plt.xlim(0, 1.05)\n",
    "plt.tight_layout()"
   ]
  },
  {
   "cell_type": "code",
   "execution_count": null,
   "id": "90b7e42d-9e15-4b46-b393-c5b4d88f1d72",
   "metadata": {},
   "outputs": [],
   "source": []
  }
 ],
 "metadata": {
  "kernelspec": {
   "display_name": "LLM Master Thesis",
   "language": "python",
   "name": "llmmasterthesis"
  },
  "language_info": {
   "codemirror_mode": {
    "name": "ipython",
    "version": 3
   },
   "file_extension": ".py",
   "mimetype": "text/x-python",
   "name": "python",
   "nbconvert_exporter": "python",
   "pygments_lexer": "ipython3",
   "version": "3.13.1"
  }
 },
 "nbformat": 4,
 "nbformat_minor": 5
}
